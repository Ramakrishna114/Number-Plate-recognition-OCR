{
 "cells": [
  {
   "cell_type": "code",
   "execution_count": 2,
   "id": "fa5c1ee0",
   "metadata": {},
   "outputs": [],
   "source": [
    "import numpy as np\n",
    "import cv2\n",
    "import matplotlib.pyplot as plt\n",
    "import tensorflow as tf\n",
    "from tensorflow.keras.preprocessing.image import load_img,img_to_array"
   ]
  },
  {
   "cell_type": "code",
   "execution_count": 3,
   "id": "88077219",
   "metadata": {},
   "outputs": [
    {
     "name": "stdout",
     "output_type": "stream",
     "text": [
      "model loaded successfully\n"
     ]
    }
   ],
   "source": [
    "#  load model\n",
    "model=tf.keras.models.load_model(\"./models/object_detection.h5\")\n",
    "print(\"model loaded successfully\")"
   ]
  },
  {
   "cell_type": "code",
   "execution_count": 4,
   "id": "f3b4307f",
   "metadata": {},
   "outputs": [],
   "source": [
    "path=\"./test_images/3.jfif\"\n",
    "image=load_img(path)\n",
    "image=np.array(image,dtype=np.uint8) # 8 bit array (0,225)\n",
    "image1=load_img(path,target_size=(224,224))\n",
    "image_arr_224=img_to_array(image1)/255.0 # convert into array and get the normalized output\n"
   ]
  },
  {
   "cell_type": "code",
   "execution_count": 5,
   "id": "6be34be1",
   "metadata": {},
   "outputs": [
    {
     "name": "stdout",
     "output_type": "stream",
     "text": [
      "height= 187\n",
      "width= 269\n"
     ]
    }
   ],
   "source": [
    "# size of the original image\n",
    "h,w,d =image.shape\n",
    "print(\"height=\",h)\n",
    "print(\"width=\",w)"
   ]
  },
  {
   "cell_type": "code",
   "execution_count": null,
   "id": "923066fe",
   "metadata": {},
   "outputs": [],
   "source": [
    "plt.figure(figsize=(10,8))\n",
    "plt.imshow(image)\n",
    "plt.imshow()"
   ]
  },
  {
   "cell_type": "code",
   "execution_count": null,
   "id": "5942a2e7",
   "metadata": {},
   "outputs": [],
   "source": [
    "test_arr=image_arr_224.reshape(1,224,224,3)\n",
    "test_arr.shape"
   ]
  },
  {
   "cell_type": "code",
   "execution_count": null,
   "id": "cf106596",
   "metadata": {},
   "outputs": [],
   "source": [
    "# prediction\n",
    "coords=model.predict(test_arr)\n",
    "coords"
   ]
  },
  {
   "cell_type": "code",
   "execution_count": null,
   "id": "850f6f35",
   "metadata": {},
   "outputs": [],
   "source": [
    "#  denormalization\n",
    "denorm=np.array([w,w,h,h])\n",
    "coords=coords*denorm\n",
    "coords"
   ]
  },
  {
   "cell_type": "code",
   "execution_count": null,
   "id": "d9d99134",
   "metadata": {},
   "outputs": [],
   "source": [
    "coords=coords.astype(np.int32)\n",
    "coords"
   ]
  },
  {
   "cell_type": "code",
   "execution_count": null,
   "id": "f91f556f",
   "metadata": {},
   "outputs": [],
   "source": [
    "#  draw bounding box\n",
    "xmin,xmax,ymin,ymax=coords[0]\n",
    "pt1=(xmin,ymin)\n",
    "pt2=(xmax,ymax)\n",
    "print(pt1,pt2)\n",
    "cv2.rectangle(image,pt1,pt2,(0,255,0),3)\n",
    "\n",
    "plt.figure(figsize=(10,8))\n",
    "plt.imshow(image)\n",
    "plt.show()"
   ]
  },
  {
   "cell_type": "code",
   "execution_count": null,
   "id": "7e215f58",
   "metadata": {},
   "outputs": [],
   "source": [
    "#  create pipe line\n",
    "path=\"./test_images/3.jfif\"\n",
    "def object_detection(path):\n",
    "    image=load_img(path)\n",
    "    image=np.array(image,dtype=np.uint8) # 8 bit array (0,225)\n",
    "    image1=load_img(path,target_size=(224,224))\n",
    "    image_arr_224=img_to_array(image1)/255.0 # convert into array and get the normalized output\n",
    "\n",
    "    h,w,d =image.shape\n",
    "    test_arr=image_arr_224.reshape(1,224,224,3)\n",
    "\n",
    "    coords=model.predict(test_arr)\n",
    "\n",
    "    #  denormalization\n",
    "    denorm=np.array([w,w,h,h])\n",
    "    coords=coords*denorm\n",
    "\n",
    "    coords=coords.astype(np.int32)\n",
    "    #  draw bounding box\n",
    "    xmin,xmax,ymin,ymax=coords[0]\n",
    "    pt1=(xmin,ymin)\n",
    "    pt2=(xmax,ymax)\n",
    "    print(pt1,pt2)\n",
    "    cv2.rectangle(image,pt1,pt2,(0,255,0),3)\n",
    "    return image,coords\n",
    "\n",
    "\n",
    "\n",
    "\n",
    "\n",
    "\n"
   ]
  },
  {
   "cell_type": "code",
   "execution_count": null,
   "id": "70ecbcdb",
   "metadata": {},
   "outputs": [],
   "source": [
    "path=\"./test_images/3.jfif\"\n",
    "image,cods=object_detection(path)\n",
    "\n",
    "plt.figure(figsize=(10,8))\n",
    "plt.imshow(image)\n",
    "plt.show()\n"
   ]
  },
  {
   "cell_type": "code",
   "execution_count": null,
   "id": "9567a025",
   "metadata": {},
   "outputs": [],
   "source": [
    "#  OCR\n",
    "\n",
    "import pytesseract as pt"
   ]
  },
  {
   "cell_type": "code",
   "execution_count": null,
   "id": "74f0047b",
   "metadata": {},
   "outputs": [],
   "source": [
    "path=\"./test_images/3.jfif\"\n",
    "image,cods=object_detection(path)\n",
    "\n",
    "plt.figure(figsize=(10,8))\n",
    "plt.imshow(image)\n",
    "plt.show()"
   ]
  },
  {
   "cell_type": "code",
   "execution_count": null,
   "id": "cc1e58f7",
   "metadata": {},
   "outputs": [],
   "source": []
  },
  {
   "cell_type": "code",
   "execution_count": null,
   "id": "433cc0c1",
   "metadata": {},
   "outputs": [],
   "source": [
    "img=np.array(load_img(path))\n",
    "xmin,xmax,ymin,ymax=cods[0]\n",
    "roi=img[ymin:ymax,xmin:xmax]"
   ]
  },
  {
   "cell_type": "code",
   "execution_count": null,
   "id": "f6074a05",
   "metadata": {},
   "outputs": [],
   "source": [
    "plt.imshow(roi)\n",
    "plt.show()"
   ]
  },
  {
   "cell_type": "code",
   "execution_count": null,
   "id": "96bf7747",
   "metadata": {},
   "outputs": [],
   "source": [
    "#  extract text from image\n",
    "text=pt.image_to_string(roi)\n",
    "print(text)"
   ]
  },
  {
   "cell_type": "code",
   "execution_count": null,
   "id": "d507654b",
   "metadata": {},
   "outputs": [],
   "source": []
  },
  {
   "cell_type": "code",
   "execution_count": null,
   "id": "2c893554",
   "metadata": {},
   "outputs": [],
   "source": []
  },
  {
   "cell_type": "code",
   "execution_count": null,
   "id": "5b5d93ae",
   "metadata": {},
   "outputs": [],
   "source": []
  },
  {
   "cell_type": "code",
   "execution_count": null,
   "id": "b777117d",
   "metadata": {},
   "outputs": [],
   "source": []
  }
 ],
 "metadata": {
  "kernelspec": {
   "display_name": "Python 3 (ipykernel)",
   "language": "python",
   "name": "python3"
  },
  "language_info": {
   "codemirror_mode": {
    "name": "ipython",
    "version": 3
   },
   "file_extension": ".py",
   "mimetype": "text/x-python",
   "name": "python",
   "nbconvert_exporter": "python",
   "pygments_lexer": "ipython3",
   "version": "3.9.13"
  }
 },
 "nbformat": 4,
 "nbformat_minor": 5
}
